{
 "cells": [
  {
   "cell_type": "markdown",
   "metadata": {},
   "source": [
    "# part 1"
   ]
  },
  {
   "cell_type": "code",
   "execution_count": 88,
   "metadata": {},
   "outputs": [],
   "source": [
    "import pandas as pd\n",
    "import numpy as np\n",
    "import matplotlib.pyplot as plt\n",
    "import seaborn as sns\n",
    "from sklearn.datasets import load_iris\n",
    "from sklearn.neighbors import KNeighborsClassifier"
   ]
  },
  {
   "cell_type": "code",
   "execution_count": 89,
   "metadata": {},
   "outputs": [],
   "source": [
    "import numpy as np\n",
    "import pandas as pd\n",
    "from collections import deque\n",
    "\n",
    "\n",
    "class DBSCAN(object):\n",
    "    def __init__(self, metric='minkowski', p=2, eps=2, minPoints=2):\n",
    "        self.metric = metric\n",
    "        self.p = p\n",
    "        self.eps=eps\n",
    "        self.minPoints=minPoints\n",
    "        self.X = None\n",
    "        self.labels_ = None\n",
    "        self._check_metrics()\n",
    "     \n",
    "    def _check_metrics(self):\n",
    "        if self.metric not in ['minkowski', 'manhattan', 'chebyshev']:\n",
    "            raise ValueError(f'Metric \"{self.metric}\" is not valid. Use \"minkowski\", \"manhattan\", or \"chebyshev\"')\n",
    "    \n",
    "    def __repr__(self):\n",
    "        return f\"\"\"DBSCAN(eps=2, minPoints=2, metric={self.metric}, p={2}))\"\"\"\n",
    "    \n",
    "    def fit(self, X):\n",
    "        \n",
    "        if isinstance(X, pd.core.series.Series):\n",
    "            X = X.to_numpy()\n",
    "        if X.ndim==1:\n",
    "            X = X.reshape(-1,1)\n",
    "        \n",
    "        self.X = X\n",
    "        self.labels_ = np.empty(self.X.shape[0])\n",
    "        self.labels_[:]=np.nan\n",
    "        \n",
    "        self._cluster()\n",
    "        \n",
    "        return self\n",
    "        \n",
    "    def _cluster(self):\n",
    "        C=-1\n",
    "        for index, point in enumerate(self.X):\n",
    "            if ~np.isnan(self.labels_[index]):\n",
    "                continue\n",
    "                \n",
    "            neighbors, num_neighbors = self.range_query(point)\n",
    "            \n",
    "            if num_neighbors<self.minPoints:\n",
    "                self.labels_[index]=-1\n",
    "                continue\n",
    "                \n",
    "            C=C+1\n",
    "            \n",
    "            self.labels_[index]=C\n",
    "            \n",
    "            set_of_reachables_indices =  np.delete(neighbors, np.where(neighbors==index))\n",
    "            q = deque(set_of_reachables_indices)\n",
    "            while q:\n",
    "                reachable_indice = q.pop()\n",
    "                if self.labels_[reachable_indice]==-1:\n",
    "                    self.labels_[reachable_indice]=C\n",
    "                if ~np.isnan(self.labels_[reachable_indice]):\n",
    "                    continue\n",
    "                self.labels_[reachable_indice]=C\n",
    "                reachable_neighbors, num_reachable_neighbors = self.range_query(self.X[reachable_indice,:])\n",
    "                if num_reachable_neighbors>= self.minPoints:\n",
    "                    q.extend(reachable_neighbors)\n",
    "        self.labels_ = self.labels_.astype('int')\n",
    "            \n",
    "    \n",
    "    def range_query(self, p):\n",
    "        along_axis_diffs = self.X[:,np.newaxis,:] - p\n",
    "        if self.metric == 'minkowski':\n",
    "            distances = np.power(np.power(np.abs(along_axis_diffs), self.p).sum(axis=-1), 1/self.p)\n",
    "        if self.metric == 'manhattan':\n",
    "            distances = np.abs(along_axis_diffs).sum(axis=-1)\n",
    "        if self.metric == 'chebyshev':\n",
    "            distances = np.abs(along_axis_diffs).max(axis=-1)\n",
    "            \n",
    "        assert distances.shape==(self.X.shape[0],1)\n",
    "        distances = distances.reshape(-1)\n",
    "        \n",
    "        indices = np.argwhere(distances<=self.eps).ravel()\n",
    "        N = len(indices)\n",
    "        \n",
    "        return indices, N"
   ]
  },
  {
   "cell_type": "markdown",
   "metadata": {},
   "source": [
    "# part 2"
   ]
  },
  {
   "cell_type": "code",
   "execution_count": 119,
   "metadata": {},
   "outputs": [
    {
     "data": {
      "text/plain": [
       "0.96"
      ]
     },
     "execution_count": 119,
     "metadata": {},
     "output_type": "execute_result"
    }
   ],
   "source": [
    "\n",
    "def accuracy(y_true, y_pred):\n",
    "    accuracy = np.sum(y_true == y_pred) / len(y_true)\n",
    "    return accuracy\n",
    "\n",
    "    \n",
    "    \n",
    "def sklearn_to_df(sklearn_dataset):\n",
    "    df = pd.DataFrame(sklearn_dataset.data, columns=sklearn_dataset.feature_names)\n",
    "    df['target'] = pd.Series(sklearn_dataset.target)\n",
    "    return df\n",
    "\n",
    "\n",
    "data = load_iris()\n",
    "df = sklearn_to_df(data)\n",
    "\n",
    "\n",
    "X_train = df.drop('target', axis=1).to_numpy()\n",
    "y_train = df['target'].to_numpy()\n",
    "\n",
    "\n",
    "\n",
    "neigh = KNeighborsClassifier(3)\n",
    "nbrs = neigh.fit(X_train, y_train)\n",
    "distances, indices = nbrs.kneighbors(X_train)\n"
   ]
  },
  {
   "cell_type": "code",
   "execution_count": 120,
   "metadata": {},
   "outputs": [],
   "source": [
    "def euclidean_distance(x1):\n",
    "    return np.sqrt(np.sum((x1)**2))"
   ]
  },
  {
   "cell_type": "code",
   "execution_count": 128,
   "metadata": {},
   "outputs": [
    {
     "data": {
      "text/plain": [
       "[<matplotlib.lines.Line2D at 0x27e9c17e748>]"
      ]
     },
     "execution_count": 128,
     "metadata": {},
     "output_type": "execute_result"
    },
    {
     "data": {
      "image/png": "[encoded data removed]",
      "text/plain": [
       "<Figure size 432x288 with 1 Axes>"
      ]
     },
     "metadata": {
      "needs_background": "light"
     },
     "output_type": "display_data"
    }
   ],
   "source": [
    "neigh = KNeighborsClassifier(5)\n",
    "nbrs = neigh.fit(X_train, y_train)\n",
    "distances, indices = nbrs.kneighbors(X_train)\n",
    "\n",
    "dist_list = []\n",
    "for i in range(len(distances)):\n",
    "    dist_list.append(euclidean_distance(distances[i]))\n",
    "    \n",
    "distances = np.sort(dist_list, axis=0)\n",
    "plt.xlabel('data')\n",
    "plt.ylabel('distance')\n",
    "plt.plot(distances)\n",
    " "
   ]
  },
  {
   "cell_type": "code",
   "execution_count": 129,
   "metadata": {},
   "outputs": [
    {
     "data": {
      "text/plain": [
       "[<matplotlib.lines.Line2D at 0x27e9c1e1be0>]"
      ]
     },
     "execution_count": 129,
     "metadata": {},
     "output_type": "execute_result"
    },
    {
     "data": {
      "image/png": "[encoded data removed]",
      "text/plain": [
       "<Figure size 432x288 with 1 Axes>"
      ]
     },
     "metadata": {
      "needs_background": "light"
     },
     "output_type": "display_data"
    }
   ],
   "source": [
    "neigh = KNeighborsClassifier(3)\n",
    "nbrs = neigh.fit(X_train, y_train)\n",
    "distances, indices = nbrs.kneighbors(X_train)\n",
    "\n",
    "dist_list = []\n",
    "for i in range(len(distances)):\n",
    "    dist_list.append(euclidean_distance(distances[i]))\n",
    "    \n",
    "distances = np.sort(dist_list, axis=0)\n",
    "plt.xlabel('data')\n",
    "plt.ylabel('distance')\n",
    "plt.plot(distances)\n",
    " "
   ]
  },
  {
   "cell_type": "code",
   "execution_count": 126,
   "metadata": {},
   "outputs": [],
   "source": [
    "dbscan = DBSCAN(eps=0.8, minPoints=2).fit(X_train)"
   ]
  },
  {
   "cell_type": "code",
   "execution_count": 127,
   "metadata": {},
   "outputs": [
    {
     "data": {
      "text/plain": [
       "0.68"
      ]
     },
     "execution_count": 127,
     "metadata": {},
     "output_type": "execute_result"
    }
   ],
   "source": [
    "accuracy(y_train, dbscan.labels_)"
   ]
  },
  {
   "cell_type": "code",
   "execution_count": null,
   "metadata": {},
   "outputs": [],
   "source": []
  }
 ],
 "metadata": {
  "kernelspec": {
   "display_name": "Python 3",
   "language": "python",
   "name": "python3"
  },
  "language_info": {
   "codemirror_mode": {
    "name": "ipython",
    "version": 3
   },
   "file_extension": ".py",
   "mimetype": "text/x-python",
   "name": "python",
   "nbconvert_exporter": "python",
   "pygments_lexer": "ipython3",
   "version": "3.7.3"
  }
 },
 "nbformat": 4,
 "nbformat_minor": 2
}
