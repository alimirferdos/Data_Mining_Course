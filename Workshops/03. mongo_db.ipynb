{
 "cells": [
  {
   "cell_type": "markdown",
   "metadata": {},
   "source": [
    "# Workshop 1\n",
    "Your very first notebook\n",
    "<br>\n",
    "Connecting to <b> mongoDB </b>"
   ]
  },
  {
   "cell_type": "markdown",
   "metadata": {},
   "source": [
    "---\n",
    "# Installing pymongo"
   ]
  },
  {
   "cell_type": "code",
   "execution_count": null,
   "metadata": {},
   "outputs": [],
   "source": [
    "!pip install pymongo"
   ]
  },
  {
   "cell_type": "markdown",
   "metadata": {},
   "source": [
    "---\n",
    "# Connecting to db"
   ]
  },
  {
   "cell_type": "code",
   "execution_count": null,
   "metadata": {},
   "outputs": [],
   "source": [
    "import pymongo \n",
    "\n",
    "HOST = '46.101.130.61'\n",
    "PORT = 3360\n",
    "USER = 'emad'\n",
    "PASSWORD = 'x1mxv9qkpqQbyXgSlQRQ0DluCiElR'\n",
    "DB_NAME = 'daricheh_gorge_crawler'\n",
    "\n",
    "client = pymongo.MongoClient(f\"mongodb://{USER}:{PASSWORD}@{HOST}:{PORT}\")\n",
    "db = client[DB_NAME]\n",
    "db"
   ]
  },
  {
   "cell_type": "code",
   "execution_count": null,
   "metadata": {},
   "outputs": [],
   "source": [
    "cursor = db['posts'].find({\"id\": {\"$in\": [1, 10, 13]}})\n",
    "posts = list(cursor)\n",
    "\n",
    "print(\"posts:\")\n",
    "print(posts)"
   ]
  }
 ],
 "metadata": {
  "kernelspec": {
   "display_name": "Python 3",
   "language": "python",
   "name": "python3"
  },
  "language_info": {
   "codemirror_mode": {
    "name": "ipython",
    "version": 3
   },
   "file_extension": ".py",
   "mimetype": "text/x-python",
   "name": "python",
   "nbconvert_exporter": "python",
   "pygments_lexer": "ipython3",
   "version": "3.8.6"
  }
 },
 "nbformat": 4,
 "nbformat_minor": 4
}
