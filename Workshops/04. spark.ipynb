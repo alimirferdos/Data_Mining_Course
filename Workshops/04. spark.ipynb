{
 "cells": [
  {
   "cell_type": "markdown",
   "metadata": {},
   "source": [
    "# Workshop 2\n",
    "Learning pyspark\n",
    "<br>\n",
    "Getting familliar with spark's functions"
   ]
  },
  {
   "cell_type": "markdown",
   "metadata": {},
   "source": [
    "---\n",
    "# Installation\n",
    "1. install docker\n",
    "2. docker pull jupyter/all-spark-notebook\n",
    "3. docker run -d --name notebook -p 10000:8888 -e JUPYTER_ENABLE_LAB=yes -v ~/Development/DockerWorkspace:/home/jovyan/work jupyter/all-spark-notebook"
   ]
  },
  {
   "cell_type": "markdown",
   "metadata": {},
   "source": [
    "---\n",
    "# Importing pyspark"
   ]
  },
  {
   "cell_type": "code",
   "execution_count": 3,
   "metadata": {},
   "outputs": [
    {
     "ename": "ValueError",
     "evalue": "Cannot run multiple SparkContexts at once; existing SparkContext(app=pyspark-shell, master=local[*]) created by __init__ at <ipython-input-1-3bd1e62be2c5>:4 ",
     "output_type": "error",
     "traceback": [
      "\u001b[0;31m---------------------------------------------------------------------------\u001b[0m",
      "\u001b[0;31mValueError\u001b[0m                                Traceback (most recent call last)",
      "\u001b[0;32m<ipython-input-3-3bd1e62be2c5>\u001b[0m in \u001b[0;36m<module>\u001b[0;34m\u001b[0m\n\u001b[1;32m      2\u001b[0m \u001b[0;32mfrom\u001b[0m \u001b[0mpyspark\u001b[0m\u001b[0;34m.\u001b[0m\u001b[0msql\u001b[0m \u001b[0;32mimport\u001b[0m \u001b[0mSparkSession\u001b[0m\u001b[0;34m\u001b[0m\u001b[0;34m\u001b[0m\u001b[0m\n\u001b[1;32m      3\u001b[0m \u001b[0;34m\u001b[0m\u001b[0m\n\u001b[0;32m----> 4\u001b[0;31m \u001b[0msc\u001b[0m \u001b[0;34m=\u001b[0m \u001b[0mSparkContext\u001b[0m\u001b[0;34m(\u001b[0m\u001b[0;34m)\u001b[0m\u001b[0;34m\u001b[0m\u001b[0;34m\u001b[0m\u001b[0m\n\u001b[0m\u001b[1;32m      5\u001b[0m \u001b[0mspark\u001b[0m \u001b[0;34m=\u001b[0m \u001b[0mSparkSession\u001b[0m\u001b[0;34m(\u001b[0m\u001b[0msc\u001b[0m\u001b[0;34m)\u001b[0m\u001b[0;34m\u001b[0m\u001b[0;34m\u001b[0m\u001b[0m\n\u001b[1;32m      6\u001b[0m \u001b[0;31m# run this cell only once\u001b[0m\u001b[0;34m\u001b[0m\u001b[0;34m\u001b[0m\u001b[0;34m\u001b[0m\u001b[0m\n",
      "\u001b[0;32m/usr/local/spark/python/pyspark/context.py\u001b[0m in \u001b[0;36m__init__\u001b[0;34m(self, master, appName, sparkHome, pyFiles, environment, batchSize, serializer, conf, gateway, jsc, profiler_cls)\u001b[0m\n\u001b[1;32m    131\u001b[0m                     \" note this option will be removed in Spark 3.0\")\n\u001b[1;32m    132\u001b[0m \u001b[0;34m\u001b[0m\u001b[0m\n\u001b[0;32m--> 133\u001b[0;31m         \u001b[0mSparkContext\u001b[0m\u001b[0;34m.\u001b[0m\u001b[0m_ensure_initialized\u001b[0m\u001b[0;34m(\u001b[0m\u001b[0mself\u001b[0m\u001b[0;34m,\u001b[0m \u001b[0mgateway\u001b[0m\u001b[0;34m=\u001b[0m\u001b[0mgateway\u001b[0m\u001b[0;34m,\u001b[0m \u001b[0mconf\u001b[0m\u001b[0;34m=\u001b[0m\u001b[0mconf\u001b[0m\u001b[0;34m)\u001b[0m\u001b[0;34m\u001b[0m\u001b[0;34m\u001b[0m\u001b[0m\n\u001b[0m\u001b[1;32m    134\u001b[0m         \u001b[0;32mtry\u001b[0m\u001b[0;34m:\u001b[0m\u001b[0;34m\u001b[0m\u001b[0;34m\u001b[0m\u001b[0m\n\u001b[1;32m    135\u001b[0m             self._do_init(master, appName, sparkHome, pyFiles, environment, batchSize, serializer,\n",
      "\u001b[0;32m/usr/local/spark/python/pyspark/context.py\u001b[0m in \u001b[0;36m_ensure_initialized\u001b[0;34m(cls, instance, gateway, conf)\u001b[0m\n\u001b[1;32m    330\u001b[0m                         \u001b[0;34m\" created by %s at %s:%s \"\u001b[0m\u001b[0;34m\u001b[0m\u001b[0;34m\u001b[0m\u001b[0m\n\u001b[1;32m    331\u001b[0m                         % (currentAppName, currentMaster,\n\u001b[0;32m--> 332\u001b[0;31m                             callsite.function, callsite.file, callsite.linenum))\n\u001b[0m\u001b[1;32m    333\u001b[0m                 \u001b[0;32melse\u001b[0m\u001b[0;34m:\u001b[0m\u001b[0;34m\u001b[0m\u001b[0;34m\u001b[0m\u001b[0m\n\u001b[1;32m    334\u001b[0m                     \u001b[0mSparkContext\u001b[0m\u001b[0;34m.\u001b[0m\u001b[0m_active_spark_context\u001b[0m \u001b[0;34m=\u001b[0m \u001b[0minstance\u001b[0m\u001b[0;34m\u001b[0m\u001b[0;34m\u001b[0m\u001b[0m\n",
      "\u001b[0;31mValueError\u001b[0m: Cannot run multiple SparkContexts at once; existing SparkContext(app=pyspark-shell, master=local[*]) created by __init__ at <ipython-input-1-3bd1e62be2c5>:4 "
     ]
    }
   ],
   "source": [
    "from pyspark import SparkContext\n",
    "from pyspark.sql import SparkSession\n",
    "\n",
    "sc = SparkContext()\n",
    "spark = SparkSession(sc)\n",
    "# run this cell only once"
   ]
  },
  {
   "cell_type": "markdown",
   "metadata": {},
   "source": [
    "---\n",
    "# Checking version"
   ]
  },
  {
   "cell_type": "code",
   "execution_count": 4,
   "metadata": {},
   "outputs": [
    {
     "data": {
      "text/plain": [
       "'2.4.5'"
      ]
     },
     "execution_count": 4,
     "metadata": {},
     "output_type": "execute_result"
    }
   ],
   "source": [
    "sc.version"
   ]
  },
  {
   "cell_type": "markdown",
   "metadata": {},
   "source": [
    "---\n",
    "# Spark's RDD"
   ]
  },
  {
   "cell_type": "code",
   "execution_count": 38,
   "metadata": {},
   "outputs": [
    {
     "name": "stdout",
     "output_type": "stream",
     "text": [
      "\n",
      " ParallelCollectionRDD[162] at parallelize at PythonRDD.scala:195\n"
     ]
    }
   ],
   "source": [
    "a = [0, 1, 2, 3, 4, 5, 6, 7, 8, 9]\n",
    "rdd1 = sc.parallelize(a)\n",
    "print(\"\\n\", rdd1)"
   ]
  },
  {
   "cell_type": "markdown",
   "metadata": {},
   "source": [
    "---\n",
    "# first(), collect(), count(), take(), max()"
   ]
  },
  {
   "cell_type": "code",
   "execution_count": 41,
   "metadata": {},
   "outputs": [
    {
     "name": "stdout",
     "output_type": "stream",
     "text": [
      "\n",
      " 0\n",
      "\n",
      " [0, 1, 2, 3, 4, 5, 6, 7, 8, 9]\n",
      "\n",
      " 10\n",
      "\n",
      " [0, 1]\n",
      "\n",
      " 9\n"
     ]
    }
   ],
   "source": [
    "print(\"\\n\", rdd1.first())\n",
    "print(\"\\n\", rdd1.collect())\n",
    "print(\"\\n\", rdd1.count())\n",
    "print(\"\\n\", rdd1.take(2))\n",
    "print(\"\\n\", rdd1.max())"
   ]
  },
  {
   "cell_type": "markdown",
   "metadata": {},
   "source": [
    "---\n",
    "# reduce()"
   ]
  },
  {
   "cell_type": "code",
   "execution_count": 11,
   "metadata": {},
   "outputs": [
    {
     "name": "stdout",
     "output_type": "stream",
     "text": [
      "\n",
      " 9\n"
     ]
    }
   ],
   "source": [
    "def r(x, y):\n",
    "    return y\n",
    "\n",
    "print(\"\\n\", rdd1.reduce(r))"
   ]
  },
  {
   "cell_type": "markdown",
   "metadata": {},
   "source": [
    "---\n",
    "# map(), filter()"
   ]
  },
  {
   "cell_type": "code",
   "execution_count": 12,
   "metadata": {},
   "outputs": [
    {
     "name": "stdout",
     "output_type": "stream",
     "text": [
      "\n",
      " [-10, -8, -6, -4, -2, 0, 2, 4, 6, 8]\n",
      "\n",
      " [0, 2, 4, 6, 8]\n"
     ]
    }
   ],
   "source": [
    "rdd2 = rdd1.map(lambda x: x * 2 - 10)\n",
    "print(\"\\n\", rdd2.collect())\n",
    "\n",
    "rdd3 = rdd1.filter(lambda x: x % 2 == 0)\n",
    "print(\"\\n\", rdd3.collect())"
   ]
  },
  {
   "cell_type": "markdown",
   "metadata": {},
   "source": [
    "---\n",
    "# flatMap()"
   ]
  },
  {
   "cell_type": "code",
   "execution_count": 13,
   "metadata": {},
   "outputs": [
    {
     "name": "stdout",
     "output_type": "stream",
     "text": [
      "\n",
      " [0, 1, 2, 6, 2, 1, 0, 3]\n"
     ]
    }
   ],
   "source": [
    "rdd1 = sc.parallelize([(1, [0, 1, 2, 3]), (4, [6, 2, 1, 4, 3, 6]), (2, [0, 3])])\n",
    "rdd1 = rdd1.flatMap(lambda x: x[1][:3])\n",
    "print(\"\\n\", rdd1.collect())"
   ]
  },
  {
   "cell_type": "markdown",
   "metadata": {},
   "source": [
    "---\n",
    "# union(), intersection(), distinct()"
   ]
  },
  {
   "cell_type": "code",
   "execution_count": 15,
   "metadata": {},
   "outputs": [
    {
     "name": "stdout",
     "output_type": "stream",
     "text": [
      "\n",
      " [0, 1, 2, 3, 4, 5, 5, 6, 7, 8, 9, 4, 4, 5, 5, 13, 13, 14, 14]\n",
      "\n",
      " [4, 5]\n",
      "\n",
      " [13, 14, 4, 5]\n"
     ]
    }
   ],
   "source": [
    "rdd1 = sc.parallelize([0, 1, 2, 3, 4, 5, 5, 6, 7, 8, 9])\n",
    "rdd2 = sc.parallelize([4, 4, 5, 5, 13, 13, 14, 14])\n",
    "\n",
    "rdd3 = rdd1.union(rdd2)\n",
    "print(\"\\n\", rdd3.collect())\n",
    "\n",
    "rdd4 = rdd1.intersection(rdd2)\n",
    "print(\"\\n\", rdd4.collect())\n",
    "\n",
    "print(\"\\n\", rdd2.distinct().collect())"
   ]
  },
  {
   "cell_type": "markdown",
   "metadata": {},
   "source": [
    "---\n",
    "# sortByKey(), reduceByKey(), groupByKey()"
   ]
  },
  {
   "cell_type": "code",
   "execution_count": 17,
   "metadata": {},
   "outputs": [
    {
     "name": "stdout",
     "output_type": "stream",
     "text": [
      "\n",
      " [(1, 'Green Apple'), (2, 'Pink Orange'), (2, 'Red Orange'), (2, 'Yellow Orange'), (4, 'Yellow Banana')]\n",
      "\n",
      " [(1, 'Green Apple'), (2, 'Pink Orange Red Orange Yellow Orange'), (4, 'Yellow Banana')]\n",
      "\n",
      " [(1, <pyspark.resultiterable.ResultIterable object at 0x7f1d3514d350>), (2, <pyspark.resultiterable.ResultIterable object at 0x7f1d3514d2d0>), (4, <pyspark.resultiterable.ResultIterable object at 0x7f1d3514d450>)]\n",
      "\n",
      " [(1, ['Green Apple']), (2, ['Pink Orange', 'Red Orange', 'Yellow Orange']), (4, ['Yellow Banana'])]\n"
     ]
    }
   ],
   "source": [
    "rdd1 = sc.parallelize([(2, \"Pink Orange\"), (1, \"Green Apple\"), (4, \"Yellow Banana\"), (2, \"Red Orange\"), (2, \"Yellow Orange\")])\n",
    "rdd2 = rdd1.sortByKey(ascending=True)\n",
    "print(\"\\n\", rdd2.collect())\n",
    "\n",
    "rdd3 = rdd1.reduceByKey(lambda v1, v2: v1 + \" \" + v2)\n",
    "print(\"\\n\", rdd3.collect())\n",
    "\n",
    "rdd4 = rdd1.groupByKey()\n",
    "print(\"\\n\", rdd4.collect())\n",
    "\n",
    "print(\"\\n\", rdd4.map(lambda x: (x[0], list(x[1]))).collect())"
   ]
  },
  {
   "cell_type": "markdown",
   "metadata": {},
   "source": [
    "---\n",
    "# Multiple functions, then collect()"
   ]
  },
  {
   "cell_type": "code",
   "execution_count": 21,
   "metadata": {},
   "outputs": [
    {
     "name": "stdout",
     "output_type": "stream",
     "text": [
      "\n",
      " 100\n",
      "\n",
      " [-6, 0, 6, 12, 18, 24, 30, 36, 42, 48, 54, 60, 66, 72, 78, 84, 90, 96, 102, 108, 114, 120, 126, 132, 138, 144, 150, 156, 162, 168, 174, 180, 186, -10, -4, 2, 8, 14, 20, 26, 32, 38, 44, 50, 56, 62, 68, 74, 80, 86, 92, 98, 104, 110, 116, 122, 128, 134, 140, 146, 152, 158, 164, 170, 176, 182, 188, -8, -2, 4, 10, 16, 22, 28, 34, 40, 46, 52, 58, 64, 70, 76, 82, 88, 94, 100, 106, 112, 118, 124, 130, 136, 142, 148, 154, 160, 166, 172, 178, 184]\n"
     ]
    }
   ],
   "source": [
    "rdd1 = sc.parallelize(list(range(100)))\n",
    "rdd1 = rdd1.map(lambda x: x * 2 - 10).filter(lambda x: x % 3).distinct()\n",
    "print(\"\\n\", rdd1.count())\n",
    "print(\"\\n\", rdd1.collect())"
   ]
  },
  {
   "cell_type": "markdown",
   "metadata": {},
   "source": [
    "---\n",
    "# Reading from file"
   ]
  },
  {
   "cell_type": "code",
   "execution_count": 22,
   "metadata": {},
   "outputs": [
    {
     "name": "stdout",
     "output_type": "stream",
     "text": [
      "\n",
      " ['hello', 'second line', 'last line', 'bye']\n"
     ]
    }
   ],
   "source": [
    "rdd1 = sc.textFile(\"text_test.txt\")\n",
    "print(\"\\n\", rdd1.collect())"
   ]
  },
  {
   "cell_type": "code",
   "execution_count": 27,
   "metadata": {},
   "outputs": [
    {
     "name": "stdout",
     "output_type": "stream",
     "text": [
      "\n",
      " h.e.s.e.l.a.b.y\n"
     ]
    }
   ],
   "source": [
    "print(\"\\n\", rdd1.map(lambda x: x[:2]).flatMap(lambda x: x).reduce(lambda x, y: x + '.' + y))"
   ]
  },
  {
   "cell_type": "markdown",
   "metadata": {},
   "source": [
    "---\n",
    "# Reading from dataframe"
   ]
  },
  {
   "cell_type": "code",
   "execution_count": 28,
   "metadata": {},
   "outputs": [
    {
     "name": "stdout",
     "output_type": "stream",
     "text": [
      "+---------+----------+--------+----------+------+------+\n",
      "|firstname|middlename|lastname|      year|gender|salary|\n",
      "+---------+----------+--------+----------+------+------+\n",
      "|    James|          |   Smith|1991-04-01|     M|  3000|\n",
      "|  Michael|      Rose|        |2000-05-19|     M|  4000|\n",
      "|   Robert|          |Williams|1978-09-05|     M|  4000|\n",
      "|    Maria|      Anne|   Jones|1967-12-01|     F|  4000|\n",
      "|      Jen|      Mary|   Brown|1980-02-17|     F|    -1|\n",
      "+---------+----------+--------+----------+------+------+\n",
      "\n"
     ]
    }
   ],
   "source": [
    "columns = [\"firstname\", \"middlename\", \"lastname\", \"year\", \"gender\", \"salary\"]\n",
    "\n",
    "data = [\n",
    "    ('James', '', 'Smith', '1991-04-01', 'M', 3000),\n",
    "    ('Michael', 'Rose', '', '2000-05-19', 'M', 4000),\n",
    "    ('Robert', '', 'Williams', '1978-09-05', 'M', 4000),\n",
    "    ('Maria', 'Anne', 'Jones', '1967-12-01', 'F', 4000),\n",
    "    ('Jen', 'Mary', 'Brown', '1980-02-17', 'F', -1),\n",
    "]\n",
    "\n",
    "df = spark.createDataFrame(data=data, schema=columns)\n",
    "df.show()"
   ]
  },
  {
   "cell_type": "markdown",
   "metadata": {},
   "source": [
    "---\n",
    "# Reading from csv"
   ]
  },
  {
   "cell_type": "code",
   "execution_count": 29,
   "metadata": {},
   "outputs": [
    {
     "name": "stdout",
     "output_type": "stream",
     "text": [
      "+-----+-------+-------+-----+-------+-------+-------+-----+------------------+--------+\n",
      "| LatD| \"LatM\"| \"LatS\"| \"NS\"| \"LonD\"| \"LonM\"| \"LonS\"| \"EW\"|            \"City\"| \"State\"|\n",
      "+-----+-------+-------+-----+-------+-------+-------+-----+------------------+--------+\n",
      "|   41|      5|     59|  \"N\"|     80|     39|      0|  \"W\"|      \"Youngstown\"|      OH|\n",
      "|   42|     52|     48|  \"N\"|     97|     23|     23|  \"W\"|         \"Yankton\"|      SD|\n",
      "|   46|     35|     59|  \"N\"|    120|     30|     36|  \"W\"|          \"Yakima\"|      WA|\n",
      "|   42|     16|     12|  \"N\"|     71|     48|      0|  \"W\"|       \"Worcester\"|      MA|\n",
      "|   43|     37|     48|  \"N\"|     89|     46|     11|  \"W\"| \"Wisconsin Dells\"|      WI|\n",
      "|   36|      5|     59|  \"N\"|     80|     15|      0|  \"W\"|   \"Winston-Salem\"|      NC|\n",
      "|   49|     52|     48|  \"N\"|     97|      9|      0|  \"W\"|        \"Winnipeg\"|      MB|\n",
      "|   39|     11|     23|  \"N\"|     78|      9|     36|  \"W\"|      \"Winchester\"|      VA|\n",
      "|   34|     14|     24|  \"N\"|     77|     55|     11|  \"W\"|      \"Wilmington\"|      NC|\n",
      "|   39|     45|      0|  \"N\"|     75|     33|      0|  \"W\"|      \"Wilmington\"|      DE|\n",
      "|   48|      9|      0|  \"N\"|    103|     37|     12|  \"W\"|       \"Williston\"|      ND|\n",
      "|   41|     15|      0|  \"N\"|     77|      0|      0|  \"W\"|    \"Williamsport\"|      PA|\n",
      "|   37|     40|     48|  \"N\"|     82|     16|     47|  \"W\"|      \"Williamson\"|      WV|\n",
      "|   33|     54|      0|  \"N\"|     98|     29|     23|  \"W\"|   \"Wichita Falls\"|      TX|\n",
      "|   37|     41|     23|  \"N\"|     97|     20|     23|  \"W\"|         \"Wichita\"|      KS|\n",
      "|   40|      4|     11|  \"N\"|     80|     43|     12|  \"W\"|        \"Wheeling\"|      WV|\n",
      "|   26|     43|     11|  \"N\"|     80|      3|      0|  \"W\"| \"West Palm Beach\"|      FL|\n",
      "|   47|     25|     11|  \"N\"|    120|     19|     11|  \"W\"|       \"Wenatchee\"|      WA|\n",
      "|   41|     25|     11|  \"N\"|    122|     23|     23|  \"W\"|            \"Weed\"|      CA|\n",
      "|   31|     13|     11|  \"N\"|     82|     20|     59|  \"W\"|        \"Waycross\"|      GA|\n",
      "+-----+-------+-------+-----+-------+-------+-------+-----+------------------+--------+\n",
      "only showing top 20 rows\n",
      "\n"
     ]
    }
   ],
   "source": [
    "df = spark.read.option(\"header\", True).csv(\"cities.csv\")\n",
    "df.show()"
   ]
  },
  {
   "cell_type": "markdown",
   "metadata": {},
   "source": [
    "---\n",
    "# Running SQL queries"
   ]
  },
  {
   "cell_type": "code",
   "execution_count": 31,
   "metadata": {},
   "outputs": [
    {
     "name": "stdout",
     "output_type": "stream",
     "text": [
      "+-----+-------+-------+-----+-------+-------+-------+-----+------------------+--------+\n",
      "| LatD| \"LatM\"| \"LatS\"| \"NS\"| \"LonD\"| \"LonM\"| \"LonS\"| \"EW\"|            \"City\"| \"State\"|\n",
      "+-----+-------+-------+-----+-------+-------+-------+-----+------------------+--------+\n",
      "|   41|      5|     59|  \"N\"|     80|     39|      0|  \"W\"|      \"Youngstown\"|      OH|\n",
      "|   42|     52|     48|  \"N\"|     97|     23|     23|  \"W\"|         \"Yankton\"|      SD|\n",
      "|   46|     35|     59|  \"N\"|    120|     30|     36|  \"W\"|          \"Yakima\"|      WA|\n",
      "|   42|     16|     12|  \"N\"|     71|     48|      0|  \"W\"|       \"Worcester\"|      MA|\n",
      "|   43|     37|     48|  \"N\"|     89|     46|     11|  \"W\"| \"Wisconsin Dells\"|      WI|\n",
      "|   36|      5|     59|  \"N\"|     80|     15|      0|  \"W\"|   \"Winston-Salem\"|      NC|\n",
      "|   49|     52|     48|  \"N\"|     97|      9|      0|  \"W\"|        \"Winnipeg\"|      MB|\n",
      "|   39|     11|     23|  \"N\"|     78|      9|     36|  \"W\"|      \"Winchester\"|      VA|\n",
      "|   34|     14|     24|  \"N\"|     77|     55|     11|  \"W\"|      \"Wilmington\"|      NC|\n",
      "|   39|     45|      0|  \"N\"|     75|     33|      0|  \"W\"|      \"Wilmington\"|      DE|\n",
      "|   48|      9|      0|  \"N\"|    103|     37|     12|  \"W\"|       \"Williston\"|      ND|\n",
      "|   41|     15|      0|  \"N\"|     77|      0|      0|  \"W\"|    \"Williamsport\"|      PA|\n",
      "|   37|     40|     48|  \"N\"|     82|     16|     47|  \"W\"|      \"Williamson\"|      WV|\n",
      "|   33|     54|      0|  \"N\"|     98|     29|     23|  \"W\"|   \"Wichita Falls\"|      TX|\n",
      "|   37|     41|     23|  \"N\"|     97|     20|     23|  \"W\"|         \"Wichita\"|      KS|\n",
      "|   40|      4|     11|  \"N\"|     80|     43|     12|  \"W\"|        \"Wheeling\"|      WV|\n",
      "|   26|     43|     11|  \"N\"|     80|      3|      0|  \"W\"| \"West Palm Beach\"|      FL|\n",
      "|   47|     25|     11|  \"N\"|    120|     19|     11|  \"W\"|       \"Wenatchee\"|      WA|\n",
      "|   41|     25|     11|  \"N\"|    122|     23|     23|  \"W\"|            \"Weed\"|      CA|\n",
      "|   31|     13|     11|  \"N\"|     82|     20|     59|  \"W\"|        \"Waycross\"|      GA|\n",
      "+-----+-------+-------+-----+-------+-------+-------+-----+------------------+--------+\n",
      "only showing top 20 rows\n",
      "\n"
     ]
    }
   ],
   "source": [
    "df.createOrReplaceTempView(\"CITY_DATA\")\n",
    "df2 = spark.sql('SELECT * from CITY_DATA')\n",
    "df2.show()"
   ]
  },
  {
   "cell_type": "code",
   "execution_count": null,
   "metadata": {},
   "outputs": [],
   "source": []
  }
 ],
 "metadata": {
  "kernelspec": {
   "display_name": "Python 3",
   "language": "python",
   "name": "python3"
  },
  "language_info": {
   "codemirror_mode": {
    "name": "ipython",
    "version": 3
   },
   "file_extension": ".py",
   "mimetype": "text/x-python",
   "name": "python",
   "nbconvert_exporter": "python",
   "pygments_lexer": "ipython3",
   "version": "3.8.8"
  }
 },
 "nbformat": 4,
 "nbformat_minor": 4
}
