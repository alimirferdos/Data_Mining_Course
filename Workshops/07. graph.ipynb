{
 "cells": [
  {
   "cell_type": "markdown",
   "id": "572fde50-8de6-4c2f-b8e1-0393bd628bf6",
   "metadata": {},
   "source": [
    "# Workshop 8\n",
    "Introduction to graph libraries\n",
    "<br>\n",
    "NetworkX, graph-tool, igraph "
   ]
  },
  {
   "cell_type": "markdown",
   "id": "06c9cfb4-e550-466d-8bda-de8e0c557fe8",
   "metadata": {
    "tags": []
   },
   "source": [
    "---\n",
    "# The Difference\n",
    "There are some things to be considered when choosing between these libraries\n",
    "<b>"
   ]
  },
  {
   "cell_type": "markdown",
   "id": "c4bcf283-9a23-434e-9240-4b76c4140ee1",
   "metadata": {},
   "source": [
    "### NetworkX\n",
    "1. Data structures for graphs, digraphs, and multigraphs\n",
    "2. Many standard graph algorithms\n",
    "5. Open source and written in python\n",
    "6. Flexible but slow\n",
    "7. Great documentation and active community\n",
    "8. Kinda the most popular\n",
    "\n",
    "### graph-tool\n",
    "1. It is Fast! Written mostly in c++\n",
    "2. Many algorithms are implemented in parallel\n",
    "3. Good documentation\n",
    "4. Powerful Visualization\n",
    "\n",
    "## igraph\n",
    "1. Something between NetworkX and graph-tool\n",
    "2. Almost written in c++\n",
    "3. Great functionality and flexibility\n",
    "4. Poor documentation"
   ]
  },
  {
   "cell_type": "markdown",
   "id": "60ed3d84-0f57-43e7-9315-06420f6b8af5",
   "metadata": {},
   "source": [
    "| Algorithm                   \t| graph-tool (16 threads) \t| graph-tool (1 thread) \t| igraph   \t| NetworkX \t|\n",
    "|-----------------------------\t|-------------------------\t|-----------------------\t|----------\t|----------\t|\n",
    "| Single-source shortest path \t| 0.0023 s                \t| 0.0022 s              \t| 0.0092 s \t| 0.25 s   \t|\n",
    "| Global clustering           \t| 0.011 s                 \t| 0.025 s               \t| 0.027 s  \t| 7.94 s   \t|\n",
    "| PageRank                    \t| 0.0052 s                \t| 0.022 s               \t| 0.072 s  \t| 1.54 s   \t|\n",
    "| K-core                      \t| 0.0033 s                \t| 0.0036 s              \t| 0.0098 s \t| 0.72 s   \t|\n",
    "| Minimum spanning tree       \t| 0.0073 s                \t| 0.0072 s              \t| 0.026 s  \t| 0.64 s   \t|"
   ]
  },
  {
   "cell_type": "markdown",
   "id": "9b1594fa-6912-421b-aef1-a2102b9d013f",
   "metadata": {},
   "source": [
    "---\n",
    "# NetworkX"
   ]
  },
  {
   "cell_type": "code",
   "execution_count": 1,
   "id": "6be0f18c-8ecb-4509-afa4-f65d81e8c388",
   "metadata": {
    "tags": []
   },
   "outputs": [
    {
     "name": "stdout",
     "output_type": "stream",
     "text": [
      "Requirement already satisfied: networkx in /opt/conda/lib/python3.8/site-packages (2.5)\n",
      "Requirement already satisfied: decorator>=4.3.0 in /opt/conda/lib/python3.8/site-packages (from networkx) (5.0.7)\n"
     ]
    }
   ],
   "source": [
    "!pip install networkx\n",
    "import networkx as nx"
   ]
  },
  {
   "cell_type": "markdown",
   "id": "2c5804b4-58e0-402e-9645-0d9efbe80d0b",
   "metadata": {},
   "source": [
    "---\n",
    "# Graph, Directed Graph, Multi Graph"
   ]
  },
  {
   "cell_type": "code",
   "execution_count": 3,
   "id": "be092493-050e-4745-b5dd-2d192f6dba3c",
   "metadata": {
    "tags": []
   },
   "outputs": [
    {
     "data": {
      "text/plain": [
       "<networkx.classes.multidigraph.MultiDiGraph at 0x7ff8cb6e0cd0>"
      ]
     },
     "execution_count": 3,
     "metadata": {},
     "output_type": "execute_result"
    }
   ],
   "source": [
    "G = nx.Graph()\n",
    "G = nx.DiGraph()\n",
    "G = nx.MultiGraph()\n",
    "G = nx.MultiDiGraph()\n",
    "G"
   ]
  },
  {
   "cell_type": "markdown",
   "id": "6b8171ef-0622-414d-86d4-b0be0ad47b16",
   "metadata": {},
   "source": [
    "---\n",
    "# Adding nodes"
   ]
  },
  {
   "cell_type": "code",
   "execution_count": 9,
   "id": "1fadb0e9-3ce5-48ab-b4af-036562fe9438",
   "metadata": {
    "tags": []
   },
   "outputs": [
    {
     "name": "stdout",
     "output_type": "stream",
     "text": [
      "[1]\n",
      "[1, 2, 3, 4, 5]\n",
      "[1, 2, 3, 4, 5, 'apple', 'orange']\n"
     ]
    }
   ],
   "source": [
    "G = nx.Graph()\n",
    "\n",
    "G.add_node(1)\n",
    "print(G.nodes)\n",
    "\n",
    "G.add_nodes_from([2, 3, 4, 5])\n",
    "print(G.nodes)\n",
    "\n",
    "G.add_nodes_from([\"apple\", \"orange\"])\n",
    "print(G.nodes)"
   ]
  },
  {
   "cell_type": "markdown",
   "id": "56fa3921-a579-4d57-94cc-43db8ddc2cdf",
   "metadata": {},
   "source": [
    "---\n",
    "# Removing nodes"
   ]
  },
  {
   "cell_type": "code",
   "execution_count": 10,
   "id": "76fc143c-ce5b-41b0-b6de-7adf516c395e",
   "metadata": {
    "tags": []
   },
   "outputs": [
    {
     "name": "stdout",
     "output_type": "stream",
     "text": [
      "[1, 3, 4, 5, 'orange']\n"
     ]
    }
   ],
   "source": [
    "G.remove_node(2)\n",
    "G.remove_node('apple')\n",
    "print(G.nodes)"
   ]
  },
  {
   "cell_type": "markdown",
   "id": "b1e66b6a-f9a7-4d49-a0a5-f36999385709",
   "metadata": {},
   "source": [
    "---\n",
    "# Adding edges"
   ]
  },
  {
   "cell_type": "code",
   "execution_count": 12,
   "id": "818a6e26-03ff-4c5d-98a5-bc8d916a3e46",
   "metadata": {
    "tags": []
   },
   "outputs": [
    {
     "name": "stdout",
     "output_type": "stream",
     "text": [
      "[(1, 3), (1, 'orange'), (3, 'orange'), (4, 5)]\n"
     ]
    }
   ],
   "source": [
    "G.add_edge(1, 3)\n",
    "G.add_edge(3, 'orange')\n",
    "G.add_edges_from([(1, 'orange'), (4, 5)])\n",
    "print(G.edges)"
   ]
  },
  {
   "cell_type": "markdown",
   "id": "24b21673-e582-4a29-8940-507f51048b97",
   "metadata": {},
   "source": [
    "---\n",
    "# Removing edges"
   ]
  },
  {
   "cell_type": "code",
   "execution_count": 13,
   "id": "d2c4afc4-6d33-4c4c-8e4d-c9449e81bc29",
   "metadata": {
    "tags": []
   },
   "outputs": [
    {
     "name": "stdout",
     "output_type": "stream",
     "text": [
      "[(1, 3), (3, 'orange'), (4, 5)]\n"
     ]
    }
   ],
   "source": [
    "G.remove_edge(1, 'orange')\n",
    "print(G.edges)"
   ]
  },
  {
   "cell_type": "markdown",
   "id": "aac115a0-1f2c-4a6c-8672-9cc83eca3b72",
   "metadata": {},
   "source": [
    "---\n",
    "# Nodes and edges as dictionary"
   ]
  },
  {
   "cell_type": "code",
   "execution_count": 16,
   "id": "239634cd-7a97-4bd5-8d78-eb4ad4e7f081",
   "metadata": {
    "tags": []
   },
   "outputs": [
    {
     "name": "stdout",
     "output_type": "stream",
     "text": [
      "{'time': '5pm', 'color': 'red'}\n"
     ]
    }
   ],
   "source": [
    "G.add_node(10, time='5pm', color='red')\n",
    "print(G.nodes[10])"
   ]
  },
  {
   "cell_type": "code",
   "execution_count": 20,
   "id": "0ab7897a-a9b4-482e-8be8-9b6c3c844bb4",
   "metadata": {},
   "outputs": [
    {
     "name": "stdout",
     "output_type": "stream",
     "text": [
      "[1, 3, 4, 5, 'orange', 10]\n",
      "{'time': '5pm', 'color': 'red', 'class': 3}\n"
     ]
    }
   ],
   "source": [
    "G.nodes[10]['class'] = 3\n",
    "print(G.nodes)\n",
    "print(G.nodes[10])"
   ]
  },
  {
   "cell_type": "code",
   "execution_count": 19,
   "id": "4de0c944-6e6e-4076-abf2-d063636f2955",
   "metadata": {},
   "outputs": [
    {
     "name": "stdout",
     "output_type": "stream",
     "text": [
      "[(1, 3), (3, 'orange'), (4, 5)]\n",
      "{'weight': 5.0}\n"
     ]
    }
   ],
   "source": [
    "G[1][3]['weight'] = 5.0\n",
    "print(G.edges)\n",
    "print(G[1][3])"
   ]
  },
  {
   "cell_type": "markdown",
   "id": "1fff8088-869b-4892-8c8d-d95560e95c12",
   "metadata": {},
   "source": [
    "---\n",
    "# Neighbors, degrees"
   ]
  },
  {
   "cell_type": "code",
   "execution_count": 24,
   "id": "9efb0b16-7fdf-4311-ae18-0a4d8e2bd281",
   "metadata": {
    "tags": []
   },
   "outputs": [
    {
     "name": "stdout",
     "output_type": "stream",
     "text": [
      "<dict_keyiterator object at 0x7ff8cb639860>\n"
     ]
    }
   ],
   "source": [
    "print(G.neighbors(3))"
   ]
  },
  {
   "cell_type": "code",
   "execution_count": 25,
   "id": "8002974c-16b0-4bb3-8f53-1acdd5c13867",
   "metadata": {},
   "outputs": [
    {
     "name": "stdout",
     "output_type": "stream",
     "text": [
      "1\n",
      "orange\n"
     ]
    }
   ],
   "source": [
    "for n in G.neighbors(3):\n",
    "    print(n)"
   ]
  },
  {
   "cell_type": "code",
   "execution_count": 27,
   "id": "c2606ca2-f37c-4db9-99d2-d6e9cec93dbf",
   "metadata": {},
   "outputs": [
    {
     "data": {
      "text/plain": [
       "2"
      ]
     },
     "execution_count": 27,
     "metadata": {},
     "output_type": "execute_result"
    }
   ],
   "source": [
    "G.degree(3)"
   ]
  },
  {
   "cell_type": "markdown",
   "id": "ef5b5dad-724f-43ff-b27a-281c8a1772ad",
   "metadata": {},
   "source": [
    "---\n",
    "# Adding node from another graph"
   ]
  },
  {
   "cell_type": "code",
   "execution_count": 33,
   "id": "5f548d5a-5039-4dc0-a107-c254044ca297",
   "metadata": {
    "tags": []
   },
   "outputs": [
    {
     "data": {
      "text/plain": [
       "NodeView((1, 2, 3, 100, 101, 102, 103, 104, 105, 106, 107, 108, 109))"
      ]
     },
     "execution_count": 33,
     "metadata": {},
     "output_type": "execute_result"
    }
   ],
   "source": [
    "G = nx.DiGraph()\n",
    "G.add_node(1)\n",
    "G.add_nodes_from([2, 3])\n",
    "G.add_nodes_from(range(100, 110))\n",
    "\n",
    "H = nx.Graph()\n",
    "H.add_nodes_from(G.nodes)\n",
    "\n",
    "H.nodes"
   ]
  },
  {
   "cell_type": "markdown",
   "id": "decb7dec-fb67-4e9d-9879-9e4f009f7b09",
   "metadata": {},
   "source": [
    "---\n",
    "# Example graphs"
   ]
  },
  {
   "cell_type": "code",
   "execution_count": 42,
   "id": "89b14216-2072-4797-be6e-2a198d97c18b",
   "metadata": {
    "tags": []
   },
   "outputs": [
    {
     "name": "stdout",
     "output_type": "stream",
     "text": [
      "34\n",
      "78\n"
     ]
    }
   ],
   "source": [
    "kn = nx.karate_club_graph()\n",
    "print(len(kn.nodes))\n",
    "print(len(kn.edges()))"
   ]
  },
  {
   "cell_type": "code",
   "execution_count": 45,
   "id": "77fc9f31-922f-4e27-9eab-0ac508a6f604",
   "metadata": {},
   "outputs": [
    {
     "name": "stdout",
     "output_type": "stream",
     "text": [
      "1000\n",
      "74987\n"
     ]
    }
   ],
   "source": [
    "er = nx.erdos_renyi_graph(1000, 0.15)\n",
    "print(len(er.nodes))\n",
    "print(len(er.edges()))"
   ]
  },
  {
   "cell_type": "markdown",
   "id": "9d0956ee-e65b-422f-a575-7f03242a831d",
   "metadata": {},
   "source": [
    "---\n",
    "# Visualizing graphs"
   ]
  },
  {
   "cell_type": "code",
   "execution_count": 67,
   "id": "f8255704-2c7f-45f1-84b1-632a3d5ae736",
   "metadata": {
    "tags": []
   },
   "outputs": [
    {
     "data": {
      "image/png": "[encoded data removed]",
      "text/plain": [
       "<Figure size 432x288 with 1 Axes>"
      ]
     },
     "metadata": {},
     "output_type": "display_data"
    }
   ],
   "source": [
    "# import seaborn as sns\n",
    "# import matplotlib.pyplot as plt\n",
    "\n",
    "# with sns.axes_style('white'):\n",
    "#     fig = plt.subplots(1, figsize=(12,8))\n",
    "nx.draw_networkx(kn, edge_color='#a4a4a4', with_labels=True, font_color='#cacaca')\n",
    "#     plt.axis('off')"
   ]
  },
  {
   "cell_type": "markdown",
   "id": "2d2fb01b-b9f3-483b-81e2-b58d5967c85e",
   "metadata": {},
   "source": [
    "---\n",
    "# Degree distribution"
   ]
  },
  {
   "cell_type": "code",
   "execution_count": 52,
   "id": "b68005a2-50dc-40f1-949d-6145ef39ab8d",
   "metadata": {
    "tags": []
   },
   "outputs": [
    {
     "data": {
      "text/plain": [
       "(array([  1.,   7.,  37.,  92., 197., 297., 216., 112.,  32.,   9.]),\n",
       " array([106. , 113.9, 121.8, 129.7, 137.6, 145.5, 153.4, 161.3, 169.2,\n",
       "        177.1, 185. ]),\n",
       " <BarContainer object of 10 artists>)"
      ]
     },
     "execution_count": 52,
     "metadata": {},
     "output_type": "execute_result"
    },
    {
     "data": {
      "image/png": "[encoded data removed]",
      "text/plain": [
       "<Figure size 432x288 with 1 Axes>"
      ]
     },
     "metadata": {
      "needs_background": "light"
     },
     "output_type": "display_data"
    }
   ],
   "source": [
    "degree_sequence = sorted(map(lambda x: x[1], nx.degree(er)), reverse=True) \n",
    "plt.hist(degree_sequence, bins=10)"
   ]
  },
  {
   "cell_type": "markdown",
   "id": "b4acf080-c831-4bf0-8318-b6a39a9e5fae",
   "metadata": {},
   "source": [
    "---\n",
    "# Connected components"
   ]
  },
  {
   "cell_type": "code",
   "execution_count": 54,
   "id": "a61e30fa-8825-40ec-b584-a15bf445f6ab",
   "metadata": {
    "tags": []
   },
   "outputs": [
    {
     "data": {
      "text/plain": [
       "[1000]"
      ]
     },
     "execution_count": 54,
     "metadata": {},
     "output_type": "execute_result"
    }
   ],
   "source": [
    "cc = nx.connected_components(er)\n",
    "[len(c) for c in cc]"
   ]
  },
  {
   "cell_type": "code",
   "execution_count": 63,
   "id": "5312ee7b-45ad-4935-9978-b79247ccdbe3",
   "metadata": {},
   "outputs": [
    {
     "name": "stdout",
     "output_type": "stream",
     "text": [
      "[1, 1, 2, 1, 73, 5, 1, 1, 1, 1, 51, 17, 1, 2, 1, 1, 29, 6, 1, 9, 3, 5, 2, 1, 1, 4, 1, 1, 2, 5, 2, 1, 9, 1, 5, 19, 1, 4, 1, 5, 1, 4, 1, 1, 5, 1, 1, 1, 1, 1, 1, 1, 3, 1, 1, 1, 2, 1, 1, 2, 4, 1, 2, 2, 2, 4, 1, 3, 5, 1, 1, 3, 8, 1, 1, 2, 5, 2, 1, 1, 3, 1, 1, 1, 1, 2, 4, 4, 2, 3, 1, 1, 9, 1, 1, 1, 2, 9, 1, 1, 1, 1, 6, 2, 1, 1, 2, 5, 3, 1, 8, 3, 1, 8, 1, 1, 3, 1, 8, 1, 8, 5, 7, 1, 3, 3, 2, 11, 1, 1, 4, 2, 1, 1, 1, 2, 3, 3, 4, 1, 2, 5, 1, 1, 1, 4, 1, 1, 2, 9, 1, 2, 7, 1, 2, 1, 2, 1, 1, 1, 1, 1, 1, 1, 1, 1, 1, 2, 6, 1, 1, 2, 1, 1, 3, 1, 1, 1, 1, 1, 1, 2, 1, 3, 1, 1, 9, 2, 3, 1, 1, 1, 1, 1, 1, 1, 1, 1, 2, 1, 1, 1, 1, 2, 2, 2, 1, 1, 1, 1, 2, 2, 1, 1, 1, 1, 1, 1, 1, 7, 2, 1, 1, 1, 1, 1, 1, 1, 2, 1, 1, 1, 1, 2, 1, 1, 1, 1, 1, 1, 3, 1, 1, 1, 1, 2, 1, 1, 1, 1, 1, 2, 1, 1, 1, 1, 1, 1, 3, 1, 1, 1, 1, 2, 1, 2, 1, 5, 2, 3, 1, 1, 2, 1, 1, 1, 5, 2, 1, 1, 1, 1, 2, 1, 1, 1, 1, 1, 1, 1, 2, 1, 1, 1, 1, 1, 1, 2, 3, 2, 1, 1, 1, 1, 1, 1, 1, 1, 1, 5, 1, 1, 1, 2, 1, 1, 1, 1, 2, 1, 1, 1, 1, 1, 1, 1, 1, 2, 2, 3, 1, 1, 1, 1, 1, 1, 1, 1, 1, 1, 1, 1, 1, 1, 1, 1, 2, 1, 1, 1, 1, 1, 1, 1, 1, 1, 1, 2, 2, 1, 1, 1, 1, 1, 1, 1, 1, 1, 1, 1, 1, 1, 1, 1, 1, 1, 2, 1, 1, 1, 1, 1, 2, 1, 1, 1, 1, 1, 1, 1, 1, 1, 1, 1, 1, 1, 2, 1, 1, 1, 1, 2, 1, 1, 1, 1, 1, 1, 1, 1, 1, 1, 3, 1, 1, 1, 1, 1, 1, 1, 1, 2, 4, 1, 1, 1, 1, 1, 1, 1, 1, 1, 1, 1, 1, 1, 1, 1, 1, 1, 1, 1, 1, 1, 2, 1, 1, 1, 1, 1, 1, 1, 1, 1, 1, 1, 1, 1, 1, 1, 1, 2, 1, 1, 1, 1, 1, 1, 1, 1, 2, 1, 1, 1, 1, 1, 1, 1, 1, 1, 1, 1, 1, 1, 1, 1, 1, 1, 1, 1, 1, 1, 1]\n"
     ]
    }
   ],
   "source": [
    "er = nx.erdos_renyi_graph(1000, 0.001)\n",
    "cc = nx.connected_components(er)\n",
    "print(list([len(c) for c in cc]))"
   ]
  },
  {
   "cell_type": "markdown",
   "id": "8b7bd2fe-1b52-4bcf-b3bc-ac469b6a9e86",
   "metadata": {},
   "source": [
    "---\n",
    "# Other stuff.."
   ]
  },
  {
   "cell_type": "code",
   "execution_count": 65,
   "id": "2e7b61f0-5ea9-493c-a269-cfb22b89cc31",
   "metadata": {
    "tags": []
   },
   "outputs": [
    {
     "name": "stdout",
     "output_type": "stream",
     "text": [
      "2\n",
      "1.8505685685685687\n",
      "1847\n"
     ]
    }
   ],
   "source": [
    "er = nx.erdos_renyi_graph(1000, 0.15)\n",
    "print(nx.diameter(er))\n",
    "print(nx.average_shortest_path_length(er))\n",
    "print(nx.triangles(er, 0))"
   ]
  }
 ],
 "metadata": {
  "kernelspec": {
   "display_name": "Python 3",
   "language": "python",
   "name": "python3"
  },
  "language_info": {
   "codemirror_mode": {
    "name": "ipython",
    "version": 3
   },
   "file_extension": ".py",
   "mimetype": "text/x-python",
   "name": "python",
   "nbconvert_exporter": "python",
   "pygments_lexer": "ipython3",
   "version": "3.8.8"
  }
 },
 "nbformat": 4,
 "nbformat_minor": 5
}
