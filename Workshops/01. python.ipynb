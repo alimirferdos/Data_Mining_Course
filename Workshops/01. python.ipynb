{
 "cells": [
  {
   "cell_type": "markdown",
   "metadata": {},
   "source": [
    "# Workshop 1\n",
    "Your very first notebook\n",
    "<br>\n",
    "Let's see some cool stuff from <b> python </b>"
   ]
  },
  {
   "cell_type": "markdown",
   "metadata": {},
   "source": [
    "---\n",
    "# range"
   ]
  },
  {
   "cell_type": "code",
   "execution_count": 28,
   "metadata": {},
   "outputs": [
    {
     "name": "stdout",
     "output_type": "stream",
     "text": [
      "\n",
      "a0: range(0, 10)\n",
      "\n",
      "a1: [0, 1, 2, 3, 4, 5, 6, 7, 8, 9]\n",
      "\n",
      "a2: [1, 4, 7, 10, 13]\n"
     ]
    }
   ],
   "source": [
    "a0 = range(10)\n",
    "a1 = list(a0)\n",
    "a2 = list(range(1, 14, 3))\n",
    "\n",
    "print(f\"\\na0: {a0}\")\n",
    "print(f\"\\na1: {a1}\")\n",
    "print(f\"\\na2: {a2}\")"
   ]
  },
  {
   "cell_type": "markdown",
   "metadata": {},
   "source": [
    "---\n",
    "# Array slices"
   ]
  },
  {
   "cell_type": "code",
   "execution_count": 29,
   "metadata": {},
   "outputs": [
    {
     "name": "stdout",
     "output_type": "stream",
     "text": [
      "\n",
      "a0: [0, 1, 2, 3, 4, 5, 6, 7, 8, 9]\n",
      "\n",
      "a0[:2]: [0, 1]\n",
      "\n",
      "a0[1:4]: [1, 2, 3]\n",
      "\n",
      "a0[5:-2]: [5, 6, 7]\n",
      "\n",
      "a0[0:10:2]: [0, 2, 4, 6, 8]\n",
      "\n",
      "a0[::-1]: [9, 8, 7, 6, 5, 4, 3, 2, 1, 0]\n"
     ]
    }
   ],
   "source": [
    "a0 = list(range(10))\n",
    "\n",
    "print(f\"\\na0: {a0}\")\n",
    "print(f\"\\na0[:2]: {a0[:2]}\")\n",
    "print(f\"\\na0[1:4]: {a0[1:4]}\")\n",
    "print(f\"\\na0[5:-2]: {a0[5:-2]}\")\n",
    "print(f\"\\na0[0:10:2]: {a0[0:10:2]}\")\n",
    "print(f\"\\na0[::-1]: {a0[::-1]}\")"
   ]
  },
  {
   "cell_type": "markdown",
   "metadata": {},
   "source": [
    "---\n",
    "# In place if"
   ]
  },
  {
   "cell_type": "code",
   "execution_count": 30,
   "metadata": {},
   "outputs": [
    {
     "name": "stdout",
     "output_type": "stream",
     "text": [
      "\n",
      "a1: 5\n"
     ]
    }
   ],
   "source": [
    "a0 = True\n",
    "a1 = 5 if a0 else 10\n",
    "\n",
    "print(f\"\\na1: {a1}\")"
   ]
  },
  {
   "cell_type": "markdown",
   "metadata": {},
   "source": [
    "---\n",
    "# In place for"
   ]
  },
  {
   "cell_type": "code",
   "execution_count": 31,
   "metadata": {},
   "outputs": [
    {
     "name": "stdout",
     "output_type": "stream",
     "text": [
      "\n",
      "a0: [2, 4, 6, 8, 10, 12, 14, 16, 18]\n",
      "\n",
      "a1: [1, 4, 7, 10]\n",
      "\n",
      "a2: [0, 1, 2, 3, 4, 1, 2, 3, 4, 5, 2, 3, 4, 5, 6, 3, 4, 5, 6, 7, 4, 5, 6, 7, 8]\n"
     ]
    }
   ],
   "source": [
    "a0 = [x * 2 for x in [1, 2, 3, 4, 5, 6, 7, 8, 9]]\n",
    "a1 = [x + 1 for x in range(10) if x % 3 == 0]\n",
    "a2 = [i + j for i in range(5) for j in range(5)]\n",
    "\n",
    "print(f\"\\na0: {a0}\")\n",
    "print(f\"\\na1: {a1}\")\n",
    "print(f\"\\na2: {a2}\")"
   ]
  },
  {
   "cell_type": "markdown",
   "metadata": {},
   "source": [
    "---\n",
    "# In place dict"
   ]
  },
  {
   "cell_type": "code",
   "execution_count": 32,
   "metadata": {},
   "outputs": [
    {
     "name": "stdout",
     "output_type": "stream",
     "text": [
      "\n",
      "a0: {0: 'value0', 1: 'value1', 2: 'value2', 3: 'value3', 4: 'value4', 5: 'value5', 6: 'value6', 7: 'value7', 8: 'value8', 9: 'value9'}\n"
     ]
    }
   ],
   "source": [
    "def value_creator(i):\n",
    "    return f\"value{i}\"\n",
    "a0 = {i: value_creator(i) for i in range(10)}\n",
    "print(f\"\\na0: {a0}\")"
   ]
  },
  {
   "cell_type": "markdown",
   "metadata": {},
   "source": [
    "---\n",
    "# Returning tuple"
   ]
  },
  {
   "cell_type": "code",
   "execution_count": 33,
   "metadata": {},
   "outputs": [
    {
     "name": "stdout",
     "output_type": "stream",
     "text": [
      "\n",
      "a0: 5\n",
      "\n",
      "a1: 1\n"
     ]
    }
   ],
   "source": [
    "def divide(x):\n",
    "    r = x % 2\n",
    "    q = int(x / 2)\n",
    "    return q, r\n",
    "\n",
    "a0, a1 = divide(11) \n",
    "print(f\"\\na0: {a0}\")\n",
    "print(f\"\\na1: {a1}\")"
   ]
  },
  {
   "cell_type": "markdown",
   "metadata": {},
   "source": [
    "---\n",
    "# enumerate, zip"
   ]
  },
  {
   "cell_type": "code",
   "execution_count": 34,
   "metadata": {},
   "outputs": [
    {
     "name": "stdout",
     "output_type": "stream",
     "text": [
      "\n",
      "enumerate:\n",
      "index, i: 0, 2\n",
      "index, i: 1, 5\n",
      "index, i: 2, 7\n",
      "index, i: 3, 8\n",
      "\n",
      "zip:\n",
      "i, j: 2, 1\n",
      "i, j: 5, 3\n",
      "i, j: 7, 5\n",
      "i, j: 8, 6\n"
     ]
    }
   ],
   "source": [
    "a0 = [2, 5, 7, 8]\n",
    "a1 = [1, 3, 5, 6]\n",
    "\n",
    "print(\"\\nenumerate:\")\n",
    "for index, i in enumerate(a0):\n",
    "    print(f\"index, i: {index}, {i}\")\n",
    "\n",
    "print(\"\\nzip:\")\n",
    "for i, j in zip(a0, a1):\n",
    "    print(f\"i, j: {i}, {j}\")"
   ]
  },
  {
   "cell_type": "markdown",
   "metadata": {},
   "source": [
    "---\n",
    "# map, sorted"
   ]
  },
  {
   "cell_type": "code",
   "execution_count": 35,
   "metadata": {},
   "outputs": [
    {
     "name": "stdout",
     "output_type": "stream",
     "text": [
      "\n",
      "a0: [2, 3, 5, 1, 4, 6, 0]\n",
      "\n",
      "map: [4, 8, 32, 2, 16, 64, 1]\n",
      "\n",
      "sorted: [0, 1, 2, 3, 4, 5, 6]\n"
     ]
    }
   ],
   "source": [
    "def power(x):\n",
    "    return 2 ** x\n",
    "\n",
    "a0 = [2, 3, 5, 1, 4, 6, 0]\n",
    "print(f\"\\na0: {a0}\")\n",
    "print(f\"\\nmap: {list(map(power, a0))}\")\n",
    "print(f\"\\nsorted: {sorted(a0)}\")"
   ]
  },
  {
   "cell_type": "markdown",
   "metadata": {},
   "source": [
    "---\n",
    "# expanding list and dict"
   ]
  },
  {
   "cell_type": "code",
   "execution_count": 36,
   "metadata": {},
   "outputs": [
    {
     "name": "stdout",
     "output_type": "stream",
     "text": [
      "\n",
      "multiply(*a0): 600\n",
      "\n",
      "settings(**a1): hahahaha\n"
     ]
    }
   ],
   "source": [
    "def multiply(a, b, c, d, e):\n",
    "    return a * b * c * d * e\n",
    "\n",
    "def settings(a, c, b):\n",
    "    if a and b and c:\n",
    "        return \"hoho\"\n",
    "    if a and b and not c:\n",
    "        return \"hahahaha\"\n",
    "    return \"hehe\"\n",
    "\n",
    "a0 = [10, 2, 3, 5, 2]\n",
    "a1 = {\"a\": True, \"b\": True, \"c\": False}\n",
    "print(f\"\\nmultiply(*a0): {multiply(*a0)}\")\n",
    "print(f\"\\nsettings(**a1): {settings(**a1)}\")"
   ]
  },
  {
   "cell_type": "markdown",
   "metadata": {},
   "source": [
    "---\n",
    "# numpy"
   ]
  },
  {
   "cell_type": "code",
   "execution_count": 48,
   "metadata": {},
   "outputs": [
    {
     "name": "stdout",
     "output_type": "stream",
     "text": [
      "\n",
      "a1: [[1 2 3 4]\n",
      " [2 5 2 6]\n",
      " [1 1 3 5]]\n",
      "\n",
      "a1.shape: (3, 4)\n",
      "\n",
      "a1[:, 2]: [3 2 3]\n",
      "\n",
      "a1[[0, 2], [1]]: [2 1]\n",
      "\n",
      "a1[[0, 2], [[0, 1], [2, 3]]]: [[1 1]\n",
      " [3 5]]\n",
      "\n",
      "np.random.randint: [0 1 2 1 3 1 2 4 3 2]\n"
     ]
    }
   ],
   "source": [
    "import numpy as np\n",
    "\n",
    "a0 = [[1, 2, 3, 4], [2, 5, 2, 6], [1, 1, 3, 5]]\n",
    "a1 = np.array(a0)\n",
    "print(f\"\\na1: {a1}\")\n",
    "print(f\"\\na1.shape: {a1.shape}\")\n",
    "print(f\"\\na1[:, 2]: {a1[:, 2]}\")\n",
    "print(f\"\\na1[[0, 2], [1]]: {a1[[0, 2], [1]]}\")\n",
    "print(f\"\\na1[[0, 2], [[0, 1], [2, 3]]]: {a1[[0, 2], [[0, 1], [2, 3]]]}\")\n",
    "print(f\"\\nnp.random.randint: {np.random.randint(5, size=10)}\")"
   ]
  },
  {
   "cell_type": "markdown",
   "metadata": {},
   "source": [
    "---\n",
    "# pandas"
   ]
  },
  {
   "cell_type": "code",
   "execution_count": 49,
   "metadata": {},
   "outputs": [
    {
     "data": {
      "text/html": [
       "<div>\n",
       "<style scoped>\n",
       "    .dataframe tbody tr th:only-of-type {\n",
       "        vertical-align: middle;\n",
       "    }\n",
       "\n",
       "    .dataframe tbody tr th {\n",
       "        vertical-align: top;\n",
       "    }\n",
       "\n",
       "    .dataframe thead th {\n",
       "        text-align: right;\n",
       "    }\n",
       "</style>\n",
       "<table border=\"1\" class=\"dataframe\">\n",
       "  <thead>\n",
       "    <tr style=\"text-align: right;\">\n",
       "      <th></th>\n",
       "      <th>name</th>\n",
       "      <th>year</th>\n",
       "    </tr>\n",
       "  </thead>\n",
       "  <tbody>\n",
       "    <tr>\n",
       "      <th>0</th>\n",
       "      <td>big bang theory</td>\n",
       "      <td>2007</td>\n",
       "    </tr>\n",
       "    <tr>\n",
       "      <th>1</th>\n",
       "      <td>friends</td>\n",
       "      <td>1994</td>\n",
       "    </tr>\n",
       "    <tr>\n",
       "      <th>2</th>\n",
       "      <td>how i met your mother</td>\n",
       "      <td>2005</td>\n",
       "    </tr>\n",
       "    <tr>\n",
       "      <th>3</th>\n",
       "      <td>modern family</td>\n",
       "      <td>2009</td>\n",
       "    </tr>\n",
       "    <tr>\n",
       "      <th>4</th>\n",
       "      <td>two and a half man</td>\n",
       "      <td>2003</td>\n",
       "    </tr>\n",
       "    <tr>\n",
       "      <th>5</th>\n",
       "      <td>silicon valley</td>\n",
       "      <td>2014</td>\n",
       "    </tr>\n",
       "  </tbody>\n",
       "</table>\n",
       "</div>"
      ],
      "text/plain": [
       "                    name  year\n",
       "0        big bang theory  2007\n",
       "1                friends  1994\n",
       "2  how i met your mother  2005\n",
       "3          modern family  2009\n",
       "4     two and a half man  2003\n",
       "5         silicon valley  2014"
      ]
     },
     "execution_count": 49,
     "metadata": {},
     "output_type": "execute_result"
    }
   ],
   "source": [
    "import pandas as pd\n",
    "\n",
    "data = [\n",
    "    {\"name\": \"big bang theory\", \"year\": 2007},\n",
    "    {\"name\": \"friends\", \"year\": 1994},\n",
    "    {\"name\": \"how i met your mother\", \"year\": 2005},\n",
    "    {\"name\": \"modern family\", \"year\": 2009},\n",
    "    {\"name\": \"two and a half man\", \"year\": 2003},\n",
    "    {\"name\": \"silicon valley\", \"year\": 2014},\n",
    "]\n",
    "\n",
    "df = pd.DataFrame(data)\n",
    "df"
   ]
  },
  {
   "cell_type": "code",
   "execution_count": 50,
   "metadata": {},
   "outputs": [
    {
     "data": {
      "text/html": [
       "<div>\n",
       "<style scoped>\n",
       "    .dataframe tbody tr th:only-of-type {\n",
       "        vertical-align: middle;\n",
       "    }\n",
       "\n",
       "    .dataframe tbody tr th {\n",
       "        vertical-align: top;\n",
       "    }\n",
       "\n",
       "    .dataframe thead th {\n",
       "        text-align: right;\n",
       "    }\n",
       "</style>\n",
       "<table border=\"1\" class=\"dataframe\">\n",
       "  <thead>\n",
       "    <tr style=\"text-align: right;\">\n",
       "      <th></th>\n",
       "      <th>name</th>\n",
       "      <th>year</th>\n",
       "    </tr>\n",
       "  </thead>\n",
       "  <tbody>\n",
       "    <tr>\n",
       "      <th>0</th>\n",
       "      <td>big bang theory</td>\n",
       "      <td>2007</td>\n",
       "    </tr>\n",
       "    <tr>\n",
       "      <th>3</th>\n",
       "      <td>modern family</td>\n",
       "      <td>2009</td>\n",
       "    </tr>\n",
       "    <tr>\n",
       "      <th>5</th>\n",
       "      <td>silicon valley</td>\n",
       "      <td>2014</td>\n",
       "    </tr>\n",
       "  </tbody>\n",
       "</table>\n",
       "</div>"
      ],
      "text/plain": [
       "              name  year\n",
       "0  big bang theory  2007\n",
       "3    modern family  2009\n",
       "5   silicon valley  2014"
      ]
     },
     "execution_count": 50,
     "metadata": {},
     "output_type": "execute_result"
    }
   ],
   "source": [
    "query = df[df.year > 2005]\n",
    "query"
   ]
  },
  {
   "cell_type": "markdown",
   "metadata": {},
   "source": [
    "---\n",
    "# This is a notebook file...\n",
    "and this cell is actually like others... we can write either <b> code, markdown or raw </b> cells\n",
    "<br>\n",
    "and we have access to all of the <b> previous cells variables <b>"
   ]
  },
  {
   "cell_type": "code",
   "execution_count": 51,
   "metadata": {},
   "outputs": [
    {
     "name": "stdout",
     "output_type": "stream",
     "text": [
      "multiply(a0[-1], a2[-1], 1, 1, 1): 8\n"
     ]
    }
   ],
   "source": [
    "print(f\"multiply(a0[-1], a2[-1], 1, 1, 1): {multiply(a0[-1][0], a2[-1], 1, 1, 1)}\")"
   ]
  },
  {
   "cell_type": "markdown",
   "metadata": {},
   "source": [
    "---\n",
    "what happens if we change a0 and then run previous cell again?"
   ]
  }
 ],
 "metadata": {
  "kernelspec": {
   "display_name": "Python 3",
   "language": "python",
   "name": "python3"
  },
  "language_info": {
   "codemirror_mode": {
    "name": "ipython",
    "version": 3
   },
   "file_extension": ".py",
   "mimetype": "text/x-python",
   "name": "python",
   "nbconvert_exporter": "python",
   "pygments_lexer": "ipython3",
   "version": "3.8.6"
  }
 },
 "nbformat": 4,
 "nbformat_minor": 4
}
