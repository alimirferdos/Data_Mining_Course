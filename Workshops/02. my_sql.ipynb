{
 "cells": [
  {
   "cell_type": "markdown",
   "metadata": {},
   "source": [
    "# Workshop 1\n",
    "Your very first notebook\n",
    "<br>\n",
    "Connecting to <b> mySQL </b>"
   ]
  },
  {
   "cell_type": "markdown",
   "metadata": {},
   "source": [
    "---\n",
    "# Installing pymysql"
   ]
  },
  {
   "cell_type": "code",
   "execution_count": 2,
   "metadata": {},
   "outputs": [
    {
     "name": "stdout",
     "output_type": "stream",
     "text": [
      "Requirement already satisfied: pymysql in /opt/conda/lib/python3.8/site-packages (0.10.1)\n"
     ]
    }
   ],
   "source": [
    "!pip install pymysql"
   ]
  },
  {
   "cell_type": "markdown",
   "metadata": {},
   "source": [
    "---\n",
    "# Connecting to db"
   ]
  },
  {
   "cell_type": "code",
   "execution_count": 3,
   "metadata": {},
   "outputs": [
    {
     "data": {
      "text/plain": [
       "<pymysql.connections.Connection at 0x7f51f17c7af0>"
      ]
     },
     "execution_count": 3,
     "metadata": {},
     "output_type": "execute_result"
    }
   ],
   "source": [
    "import pymysql \n",
    "\n",
    "HOST = '46.101.130.61'\n",
    "PORT = 3360\n",
    "USER = 'emad'\n",
    "PASSWORD = 'x1mxv9qkpqQbyXgSlQRQ0DluCiElR'\n",
    "DB_NAME = 'daricheh_gorge_crawler'\n",
    "\n",
    "db = pymysql.connect(host=HOST, port=PORT, user=USER, password=PASSWORD, db=DB_NAME)\n",
    "db"
   ]
  },
  {
   "cell_type": "code",
   "execution_count": 4,
   "metadata": {},
   "outputs": [
    {
     "name": "stdout",
     "output_type": "stream",
     "text": [
      "posts:\n",
      "((1, 290, 15), (10, 32, 10), (13, 79, 0))\n"
     ]
    }
   ],
   "source": [
    "with db.cursor() as cursor:\n",
    "    cursor.execute(f\"SELECT id, likes, comments FROM posts WHERE id in (1, 10, 13)\")\n",
    "    posts = cursor.fetchall()\n",
    "\n",
    "print(\"posts:\")\n",
    "print(posts)"
   ]
  },
  {
   "cell_type": "code",
   "execution_count": 5,
   "metadata": {},
   "outputs": [
    {
     "name": "stdout",
     "output_type": "stream",
     "text": [
      "popular posts:\n",
      "(1, 290, 15)\n",
      "(6, 35, 7)\n",
      "(7, 75, 3)\n",
      "(10, 32, 10)\n"
     ]
    }
   ],
   "source": [
    "with db.cursor() as cursor:\n",
    "    print(\"popular posts:\")\n",
    "    cursor.execute(f\"SELECT id, likes, comments FROM posts WHERE id BETWEEN 1 AND 10\")\n",
    "    posts = cursor.fetchall()\n",
    "\n",
    "for row in posts:\n",
    "    if row[1] > 30:\n",
    "        print(row)"
   ]
  },
  {
   "cell_type": "code",
   "execution_count": null,
   "metadata": {},
   "outputs": [],
   "source": []
  }
 ],
 "metadata": {
  "kernelspec": {
   "display_name": "Python 3",
   "language": "python",
   "name": "python3"
  },
  "language_info": {
   "codemirror_mode": {
    "name": "ipython",
    "version": 3
   },
   "file_extension": ".py",
   "mimetype": "text/x-python",
   "name": "python",
   "nbconvert_exporter": "python",
   "pygments_lexer": "ipython3",
   "version": "3.8.6"
  }
 },
 "nbformat": 4,
 "nbformat_minor": 4
}
