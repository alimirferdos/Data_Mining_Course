{
 "cells": [
  {
   "cell_type": "markdown",
   "id": "chicken-cartridge",
   "metadata": {},
   "source": [
    "# 0. Importing PySpark"
   ]
  },
  {
   "cell_type": "code",
   "execution_count": 2,
   "id": "electrical-waterproof",
   "metadata": {},
   "outputs": [],
   "source": [
    "from pyspark import SparkContext\n",
    "from pyspark.sql import SparkSession\n",
    "\n",
    "sc = SparkContext()\n",
    "spark = SparkSession(sc)\n",
    "# run this cell only once"
   ]
  },
  {
   "cell_type": "markdown",
   "id": "proper-lincoln",
   "metadata": {},
   "source": [
    "# 1. Loading the dataset"
   ]
  },
  {
   "cell_type": "code",
   "execution_count": 3,
   "id": "preliminary-adjustment",
   "metadata": {},
   "outputs": [],
   "source": [
    "import csv "
   ]
  },
  {
   "cell_type": "code",
   "execution_count": 4,
   "id": "bigger-twelve",
   "metadata": {},
   "outputs": [],
   "source": [
    "rdd1 = sc.textFile(\"digikala_comments.csv\")\\\n",
    "        .mapPartitions(lambda line: csv.reader(line, delimiter=',', quotechar='\"'))\\\n",
    "        .filter(lambda line: len(line) >= 2 and line[0] != 'product_id')"
   ]
  },
  {
   "cell_type": "code",
   "execution_count": 27,
   "id": "recognized-copyright",
   "metadata": {},
   "outputs": [
    {
     "data": {
      "text/plain": [
       "[['3692',\n",
       "  'ماوس بی\\u200cسیم لاجیتک مدل M325',\n",
       "  'IT',\n",
       "  '989472',\n",
       "  '0',\n",
       "  '0',\n",
       "  'verified',\n",
       "  '\\\\N',\n",
       "  '',\n",
       "  'واقعا عالیه. من که ازش خیلی راضیم',\n",
       "  '',\n",
       "  '']]"
      ]
     },
     "execution_count": 27,
     "metadata": {},
     "output_type": "execute_result"
    }
   ],
   "source": [
    "rdd1.take(1)"
   ]
  },
  {
   "cell_type": "markdown",
   "id": "heavy-lindsay",
   "metadata": {},
   "source": [
    "# 2. Most popular item"
   ]
  },
  {
   "cell_type": "code",
   "execution_count": 44,
   "id": "wrong-decline",
   "metadata": {},
   "outputs": [
    {
     "data": {
      "text/plain": [
       "('700304', 368)"
      ]
     },
     "execution_count": 44,
     "metadata": {},
     "output_type": "execute_result"
    }
   ],
   "source": [
    "rdd1.map(lambda l: (l[0], int(l[4]) - int(l[5])))\\\n",
    "    .reduceByKey(lambda v1, v2: v1 + v2)\\\n",
    "    .max(key = lambda x: x[1])"
   ]
  },
  {
   "cell_type": "markdown",
   "id": "shaped-curve",
   "metadata": {},
   "source": [
    "# 3. Percentage of unverified comments"
   ]
  },
  {
   "cell_type": "code",
   "execution_count": 5,
   "id": "loaded-notebook",
   "metadata": {},
   "outputs": [],
   "source": [
    "total_count = rdd1.count()"
   ]
  },
  {
   "cell_type": "code",
   "execution_count": 6,
   "id": "normal-wilson",
   "metadata": {},
   "outputs": [],
   "source": [
    "not_verified_count = rdd1.filter(lambda l: l[6] != 'verified').count()"
   ]
  },
  {
   "cell_type": "code",
   "execution_count": 7,
   "id": "experimental-complaint",
   "metadata": {},
   "outputs": [
    {
     "name": "stdout",
     "output_type": "stream",
     "text": [
      "1.7600964436407474\n"
     ]
    }
   ],
   "source": [
    "print((not_verified_count / total_count ) * 100)"
   ]
  },
  {
   "cell_type": "markdown",
   "id": "periodic-administration",
   "metadata": {},
   "source": [
    "# 4. The largest word in the comment section"
   ]
  },
  {
   "cell_type": "code",
   "execution_count": 28,
   "id": "occupied-bikini",
   "metadata": {},
   "outputs": [
    {
     "data": {
      "text/plain": [
       "('بذارید_x000D__x000D_---------------------------------------------------------------_x000D__x000D_یکی',\n",
       " 100)"
      ]
     },
     "execution_count": 28,
     "metadata": {},
     "output_type": "execute_result"
    }
   ],
   "source": [
    "rdd1.map(lambda l: l[9].split())\\\n",
    "    .flatMap(lambda x: x)\\\n",
    "    .map(lambda x: (x, len(x)))\\\n",
    "    .reduce(lambda w1, w2: w1 if w1[1] > w2[1] else w2)"
   ]
  },
  {
   "cell_type": "markdown",
   "id": "constant-passing",
   "metadata": {},
   "source": [
    "# 5. Top 10 words in advantages and disadvantages"
   ]
  },
  {
   "cell_type": "code",
   "execution_count": 31,
   "id": "optical-brooklyn",
   "metadata": {},
   "outputs": [],
   "source": [
    "import ast"
   ]
  },
  {
   "cell_type": "code",
   "execution_count": 21,
   "id": "enabling-capability",
   "metadata": {},
   "outputs": [],
   "source": [
    "persian_chars=[\"آ\", \"ا\", \"ب\", \"پ\", \"ت\", \"ث\", \"ج\", \"چ\", \"ح\", \"خ\", \"د\", \"ذ\", \"ر\", \"ز\", \"ژ\", \"س\", \"ش\",\n",
    "                  \"ص\", \"ض\", \"ط\", \"ظ\", \"ع\", \"غ\", \"ف\", \"ق\", \"ک\" ,\"گ\", \"ل\", \"م\", \"ن\", \"و\" ,\"ه\", \"ی\"]"
   ]
  },
  {
   "cell_type": "code",
   "execution_count": 109,
   "id": "naval-alpha",
   "metadata": {},
   "outputs": [],
   "source": [
    "def preprocess_words(x):\n",
    "    for c in x:\n",
    "        if c not in persian_chars:\n",
    "            x = x.replace(c, \" \")\n",
    "    return x"
   ]
  },
  {
   "cell_type": "code",
   "execution_count": 133,
   "id": "second-lafayette",
   "metadata": {},
   "outputs": [],
   "source": [
    "def get_top_10_words(column_num):\n",
    "    return rdd1.filter(lambda l: l[column_num] != '')\\\n",
    "                .map(lambda l: l[column_num])\\\n",
    "                .map(preprocess_words)\\\n",
    "                .map(lambda x: x.split())\\\n",
    "                .flatMap(lambda x: x)\\\n",
    "                .map(lambda x: (x, 1))\\\n",
    "                .reduceByKey(lambda x, y: x + y)\\\n",
    "                .takeOrdered(10, key=lambda x: -x[1])"
   ]
  },
  {
   "cell_type": "markdown",
   "id": "tracked-protein",
   "metadata": {},
   "source": [
    "Advantages column:"
   ]
  },
  {
   "cell_type": "code",
   "execution_count": 134,
   "id": "arranged-vacation",
   "metadata": {
    "tags": []
   },
   "outputs": [
    {
     "data": {
      "text/plain": [
       "[('و', 1402),\n",
       " ('کیفیت', 807),\n",
       " ('خوب', 798),\n",
       " ('عالی', 665),\n",
       " ('مناسب', 486),\n",
       " ('بالا', 402),\n",
       " ('زیبا', 394),\n",
       " ('قیمت', 359),\n",
       " ('به', 331),\n",
       " ('با', 330)]"
      ]
     },
     "execution_count": 134,
     "metadata": {},
     "output_type": "execute_result"
    }
   ],
   "source": [
    "get_top_10_words(10)"
   ]
  },
  {
   "cell_type": "markdown",
   "id": "biblical-values",
   "metadata": {},
   "source": [
    "Disadvantages column:"
   ]
  },
  {
   "cell_type": "code",
   "execution_count": 135,
   "id": "fitted-mexico",
   "metadata": {},
   "outputs": [
    {
     "data": {
      "text/plain": [
       "[('و', 486),\n",
       " ('ندارد', 402),\n",
       " ('کیفیت', 282),\n",
       " ('به', 258),\n",
       " ('در', 254),\n",
       " ('از', 245),\n",
       " ('ضعیف', 215),\n",
       " ('کم', 212),\n",
       " ('نداره', 204),\n",
       " ('خیلی', 173)]"
      ]
     },
     "execution_count": 135,
     "metadata": {},
     "output_type": "execute_result"
    }
   ],
   "source": [
    "get_top_10_words(11)"
   ]
  },
  {
   "cell_type": "markdown",
   "id": "precious-driver",
   "metadata": {},
   "source": [
    "# 6. Most popular character in product's title"
   ]
  },
  {
   "cell_type": "code",
   "execution_count": 136,
   "id": "beautiful-brave",
   "metadata": {},
   "outputs": [
    {
     "data": {
      "text/plain": [
       "[('ی', 24138)]"
      ]
     },
     "execution_count": 136,
     "metadata": {},
     "output_type": "execute_result"
    }
   ],
   "source": [
    "rdd1.map(lambda l: l[1])\\\n",
    "    .flatMap(lambda x: x)\\\n",
    "    .filter(lambda x: x in persian_chars)\\\n",
    "    .map(lambda x: (x, 1))\\\n",
    "    .reduceByKey(lambda x, y: x + y)\\\n",
    "    .takeOrdered(1, key=lambda x: -x[1])"
   ]
  },
  {
   "cell_type": "code",
   "execution_count": null,
   "id": "promotional-yukon",
   "metadata": {},
   "outputs": [],
   "source": []
  }
 ],
 "metadata": {
  "kernelspec": {
   "display_name": "Python 3",
   "language": "python",
   "name": "python3"
  },
  "language_info": {
   "codemirror_mode": {
    "name": "ipython",
    "version": 3
   },
   "file_extension": ".py",
   "mimetype": "text/x-python",
   "name": "python",
   "nbconvert_exporter": "python",
   "pygments_lexer": "ipython3",
   "version": "3.8.8"
  }
 },
 "nbformat": 4,
 "nbformat_minor": 5
}
